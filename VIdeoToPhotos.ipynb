{
 "cells": [
  {
   "cell_type": "code",
   "execution_count": 7,
   "metadata": {},
   "outputs": [],
   "source": [
    "import os\n",
    "import cv2"
   ]
  },
  {
   "cell_type": "code",
   "execution_count": 9,
   "metadata": {},
   "outputs": [],
   "source": [
    "def save_all_frames(video_path, dir_path, ext='jpg'):\n",
    "    basename = video_path.split(\"/\")[-1]\n",
    "\n",
    "    # if you change the version\n",
    "    # version = \"v2\"\n",
    "    # basename = f\"{basename}_{version}\"\n",
    "\n",
    "    cap = cv2.VideoCapture(video_path)\n",
    "\n",
    "    if not cap.isOpened():\n",
    "        return\n",
    "\n",
    "    os.makedirs(dir_path, exist_ok=True)\n",
    "    base_path = os.path.join(dir_path, basename)\n",
    "\n",
    "    digit = len(str(int(cap.get(cv2.CAP_PROP_FRAME_COUNT))))\n",
    "\n",
    "    n = 0\n",
    "    j = 0\n",
    "    while True:\n",
    "        j += 1\n",
    "        ret, frame = cap.read()\n",
    "        if ret:\n",
    "            if j % 4 == 0:\n",
    "                cv2.imwrite('{}_{}.{}'.format(base_path, str(n).zfill(digit), ext), frame)\n",
    "                n += 1\n",
    "        else:\n",
    "            return\n",
    "\n",
    "# save_all_frames('/Users/earth/Desktop/Yolov7Models/yolov7DaikiAyukav2/17430446074285.MP4', './VideoToPhoto', 'png')\n",
    "save_all_frames('/Users/earth/Desktop/Yolov7Models/yolov7DaikiAyukav2/IMG_5533.MOV', './VideoToPhoto', 'png')"
   ]
  },
  {
   "cell_type": "code",
   "execution_count": null,
   "metadata": {},
   "outputs": [],
   "source": []
  }
 ],
 "metadata": {
  "kernelspec": {
   "display_name": "base",
   "language": "python",
   "name": "python3"
  },
  "language_info": {
   "codemirror_mode": {
    "name": "ipython",
    "version": 3
   },
   "file_extension": ".py",
   "mimetype": "text/x-python",
   "name": "python",
   "nbconvert_exporter": "python",
   "pygments_lexer": "ipython3",
   "version": "3.9.13 (main, Aug 25 2022, 18:29:29) \n[Clang 12.0.0 ]"
  },
  "orig_nbformat": 4,
  "vscode": {
   "interpreter": {
    "hash": "40d3a090f54c6569ab1632332b64b2c03c39dcf918b08424e98f38b5ae0af88f"
   }
  }
 },
 "nbformat": 4,
 "nbformat_minor": 2
}
